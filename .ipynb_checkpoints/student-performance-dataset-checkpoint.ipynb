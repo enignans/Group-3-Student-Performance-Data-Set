{
 "cells": [
  {
   "cell_type": "markdown",
   "metadata": {},
   "source": [
    "Analysis of Student Performance Data"
   ]
  },
  {
   "cell_type": "markdown",
   "metadata": {},
   "source": [
    "Background Information :\n",
    "\n",
    "We have chosen to analyze data collected on students from two secondary schools in Portugal. Information was recorded by survey and school reports on both the educational careers and the personal lives of the students. In total, 32 variables were recorded for the dataset. This includes details on work habits and grades as well as family background and details on leisure time outside school. "
   ]
  },
  {
   "cell_type": "markdown",
   "metadata": {},
   "source": [
    "Question being answered in this project :\n",
    "\n",
    "Our goal is to determine if a student’s final grade can be accurately predicted based on given variables. Namely, we will attempt to answer the question: How well will a student perform and what factors affect the student performance?"
   ]
  },
  {
   "cell_type": "code",
   "execution_count": null,
   "metadata": {},
   "outputs": [],
   "source": [
    "# Libraries \n",
    "library(tidyverse)\n",
    "library(repr)\n",
    "library(tidymodels)\n",
    "library(GGally)"
   ]
  },
  {
   "cell_type": "markdown",
   "metadata": {},
   "source": [
    "In the code below, we have read the data from the web and assigned it to a data frame object called student_data"
   ]
  },
  {
   "cell_type": "code",
   "execution_count": null,
   "metadata": {},
   "outputs": [],
   "source": [
    "url <- \"https://archive.ics.uci.edu/ml/machine-learning-databases/00320/student.zip\"\n",
    "download.file(url, \"student.zip\")\n",
    "unzip(\"student.zip\")\n",
    "student_data <- read_delim(\"student-por.csv\", delim=\";\")"
   ]
  },
  {
   "cell_type": "markdown",
   "metadata": {},
   "source": [
    "In the code below, we have estimated which variables would have the highest coorelation with G3(final grade)"
   ]
  },
  {
   "cell_type": "code",
   "execution_count": null,
   "metadata": {},
   "outputs": [],
   "source": [
    "guessed_visualization <- ggpairs(select(student_data, traveltime, studytime, failures, famrel, freetime, goout, Dalc, Walc, health, absences, G1, G2, G3))\n",
    "guessed_visualization\n",
    "\n",
    "student_select <- select(student_data, G1, G2, G3)\n",
    "predictor_visualization <- ggpairs(student_select)\n",
    "predictor_visualization"
   ]
  },
  {
   "cell_type": "markdown",
   "metadata": {},
   "source": [
    "From the graphs above, we can see that G1(first period grade) and G2(second period grade) had the highest correlation with G3. \n",
    "Therefore, we will use them to train our model for k-nearest neighbor regression."
   ]
  },
  {
   "cell_type": "code",
   "execution_count": null,
   "metadata": {},
   "outputs": [],
   "source": [
    "student_split <- initial_split(student_data, prop = 0.75, strata = G3)\n",
    "student_training <- training(student_split) \n",
    "student_testing <- testing(student_split)\n",
    "student_training"
   ]
  },
  {
   "cell_type": "markdown",
   "metadata": {},
   "source": [
    "In the training data set, we observe :\n",
    "- There are 488 observations\n",
    "- There are no missing observations and the data set is in a tidy format"
   ]
  },
  {
   "cell_type": "markdown",
   "metadata": {},
   "source": [
    "We will visualize our results through k-nearest neighbors regression model and create a plot that visualizes the relationship between G3 with G1 and G2 along with the regression line. We have not used linear regression \n",
    "since more than one variable is involved for the prediction."
   ]
  },
  {
   "cell_type": "markdown",
   "metadata": {},
   "source": [
    "Conclusion:\n",
    "\n",
    "We expect to find that there is a strong positive relationship between final grades with G1 and G2. We also expect the predicted final grades to be very close the actual final grades. \n",
    "\n",
    "These findings could be used to help students who might be struggling, especially those who are predicted to have lower/failing final grades. It will also help the school to predict a student's final grades based on their previous performance.\n",
    "\n",
    "All this could lead to further analysis on the prediction of final grades, perhaps using variables other than first and second period grades and could be used to predict grades throughout the year rather than just the final. It could also lead to questions on how a student’s number of failures or amount of free time could be predicted, as this might also help indicate if a student needs additional help for their schooling."
   ]
  }
 ],
 "metadata": {
  "kernelspec": {
   "display_name": "R",
   "language": "R",
   "name": "ir"
  },
  "language_info": {
   "codemirror_mode": "r",
   "file_extension": ".r",
   "mimetype": "text/x-r-source",
   "name": "R",
   "pygments_lexer": "r",
   "version": "4.0.0"
  }
 },
 "nbformat": 4,
 "nbformat_minor": 4
}
